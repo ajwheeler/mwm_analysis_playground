{
 "cells": [
  {
   "cell_type": "code",
   "execution_count": 1,
   "metadata": {},
   "outputs": [],
   "source": [
    "using FITSIO, ProgressBars, Statistics, Interpolations, Serialization, PyPlot, Optim"
   ]
  },
  {
   "cell_type": "markdown",
   "metadata": {},
   "source": [
    "Throughout this notebook, I've avoided non-`const` globals for performance reasons."
   ]
  },
  {
   "cell_type": "code",
   "execution_count": 2,
   "metadata": {},
   "outputs": [],
   "source": [
    "const param_names = [\"teff\", \"logg\", \"metallicity\", \"alpha\", \"C\", \"N\", \"vdop\"] #not actually used anywhere\n",
    "\n",
    "#note that the grid extends from llimits to ulimits - steps, not from llimits to ulimits.  \n",
    "#That's how it is in the FERRE headers.\n",
    "const llimits = [3500., 0., -2.5, -0.75, -1.5, -0.5, -0.52288]\n",
    "const steps   = [250, 0.5, 0.25, 0.25, 0.25, 0.5, 0.30103]\n",
    "const ulimits = [6250, 5.0, 1.25, 1.25, 1.25, 2.5, 0.98227]\n",
    "const ranges = (:).(llimits, steps, ulimits .- steps)\n",
    ";"
   ]
  },
  {
   "cell_type": "markdown",
   "metadata": {},
   "source": [
    "To generate the file containing a serialized array of interpolators, uncomment and execute the next 3 cells, changing file names as appropriate"
   ]
  },
  {
   "cell_type": "code",
   "execution_count": 3,
   "metadata": {},
   "outputs": [],
   "source": [
    "#=\n",
    "#We are not going to bother interpolating a bunch of NaNs.\n",
    "const nanmask = .! isnan.(FITS(read ∘ first, \"/moto/astro/projects/APOGEE_grid/ap05cp08np00vp24.fits\")[:, 1, 1, 1])\n",
    "\n",
    "const grid = Array{Float32}(undef, sum(nanmask), length.(ranges)...);\n",
    "function fillgrid!(grid)\n",
    "    fnsegments = [\"a\" .* [\"m08\",\"m05\",\"m03\",\"p00\",\"p03\",\"p05\",\"p08\",\"p10\"], \n",
    "              \"c\" .* [\"m03\",\"m05\",\"m08\",\"m10\",\"m13\",\"m15\",\"p00\",\"p03\",\"p05\",\"p08\",\"p10\"],\n",
    "              \"n\" .* [\"m05\", \"p00\", \"p05\", \"p10\",\"p15\",\"p20\"],  \n",
    "              \"v\" .* [\"p03\",\"p06\",\"p12\",\"p24\",\"p48\"]]\n",
    "\n",
    "    for I in ProgressBar(CartesianIndices(Tuple(length.(fnsegments))))\n",
    "        fn = \"/moto/astro/projects/APOGEE_grid/\"* *(getindex.(fnsegments, Tuple(I))...) *\".fits\"\n",
    "        grid[:, :, :, :, I] .= FITS(read ∘ first, fn)[nanmask, :, :, :]\n",
    "    end  \n",
    "end\n",
    "fillgrid!(grid)\n",
    "=#"
   ]
  },
  {
   "cell_type": "code",
   "execution_count": 4,
   "metadata": {},
   "outputs": [],
   "source": [
    "#=\n",
    "#trim(r) = r[2:end-1]\n",
    "itps = map(ProgressBar(1:size(grid, 1))) do λ\n",
    "    subgrid = grid[λ, :, :, :, :, :, :, :]\n",
    "    scale(interpolate(subgrid, BSpline(Cubic(Reflect(OnGrid())))), (ranges)...) \n",
    "end\n",
    ";\n",
    "=#"
   ]
  },
  {
   "cell_type": "code",
   "execution_count": 5,
   "metadata": {},
   "outputs": [],
   "source": [
    "#using Serialization\n",
    "#serialize(\"../data/apogee_grid_interpolator_notrim.jdb\", itps)"
   ]
  },
  {
   "cell_type": "code",
   "execution_count": 6,
   "metadata": {},
   "outputs": [],
   "source": [
    "const itps = deserialize(\"../data/apogee_grid_interpolator_notrim.jdb\");"
   ]
  },
  {
   "cell_type": "code",
   "execution_count": 7,
   "metadata": {},
   "outputs": [
    {
     "data": {
      "text/plain": [
       "interpolate_jacobi (generic function with 1 method)"
      ]
     },
     "execution_count": 7,
     "metadata": {},
     "output_type": "execute_result"
    }
   ],
   "source": [
    "interpolate_spectrum(x) = [itp(x...) for itp in itps]\n",
    "function interpolate_jacobi(x)\n",
    "    J = Matrix(undef, length(itps), length(x))\n",
    "    for (λ, itp) in enumerate(itps)\n",
    "        Interpolations.gradient!(view(J,λ,:), itp, x...)\n",
    "    end\n",
    "    J\n",
    "end"
   ]
  },
  {
   "cell_type": "markdown",
   "metadata": {},
   "source": [
    "Plot an interpolated spectrum at a random point in parameter space, and time the calls to `interpolate_spectrum` and `interpolate_jacobi`. The first time you execute this, it will just-in-time compile, which takes a really long time (literally 25 miutes!) for some reason.  After that, it's fast."
   ]
  },
  {
   "cell_type": "code",
   "execution_count": 9,
   "metadata": {},
   "outputs": [
    {
     "name": "stdout",
     "output_type": "stream",
     "text": [
      "  0.513343 seconds (62.03 k allocations: 1.006 MiB)\n",
      "  0.650560 seconds (124.05 k allocations: 2.898 MiB)\n"
     ]
    }
   ],
   "source": [
    "function time_itp()\n",
    "    x = rand(7) .* (ulimits-steps-llimits) + llimits\n",
    "    @time interpolate_spectrum(x);\n",
    "    @time interpolate_jacobi(x)\n",
    "end\n",
    "time_itp();"
   ]
  },
  {
   "cell_type": "code",
   "execution_count": 12,
   "metadata": {},
   "outputs": [
    {
     "data": {
      "text/plain": [
       "4-element Array{Int64,1}:\n",
       " 2\n",
       " 3\n",
       " 4\n",
       " 5"
      ]
     },
     "execution_count": 12,
     "metadata": {},
     "output_type": "execute_result"
    }
   ],
   "source": [
    "using Distributed\n",
    "addprocs(4)"
   ]
  },
  {
   "cell_type": "code",
   "execution_count": 14,
   "metadata": {},
   "outputs": [
    {
     "ename": "LoadError",
     "evalue": "On worker 2:\nUndefVarError: #interpolate_spectrum not defined\ndeserialize_datatype at /buildworker/worker/package_linux64/build/usr/share/julia/stdlib/v1.5/Serialization/src/Serialization.jl:1252\nhandle_deserialize at /buildworker/worker/package_linux64/build/usr/share/julia/stdlib/v1.5/Serialization/src/Serialization.jl:826\ndeserialize at /buildworker/worker/package_linux64/build/usr/share/julia/stdlib/v1.5/Serialization/src/Serialization.jl:773\nhandle_deserialize at /buildworker/worker/package_linux64/build/usr/share/julia/stdlib/v1.5/Serialization/src/Serialization.jl:833\ndeserialize at /buildworker/worker/package_linux64/build/usr/share/julia/stdlib/v1.5/Serialization/src/Serialization.jl:773 [inlined]\ndeserialize_global_from_main at /buildworker/worker/package_linux64/build/usr/share/julia/stdlib/v1.5/Distributed/src/clusterserialize.jl:180\n#3 at /buildworker/worker/package_linux64/build/usr/share/julia/stdlib/v1.5/Distributed/src/clusterserialize.jl:72 [inlined]\nforeach at ./abstractarray.jl:2009\ndeserialize at /buildworker/worker/package_linux64/build/usr/share/julia/stdlib/v1.5/Distributed/src/clusterserialize.jl:72\nhandle_deserialize at /buildworker/worker/package_linux64/build/usr/share/julia/stdlib/v1.5/Serialization/src/Serialization.jl:919\ndeserialize at /buildworker/worker/package_linux64/build/usr/share/julia/stdlib/v1.5/Serialization/src/Serialization.jl:773\nhandle_deserialize at /buildworker/worker/package_linux64/build/usr/share/julia/stdlib/v1.5/Serialization/src/Serialization.jl:830\ndeserialize at /buildworker/worker/package_linux64/build/usr/share/julia/stdlib/v1.5/Serialization/src/Serialization.jl:773\nhandle_deserialize at /buildworker/worker/package_linux64/build/usr/share/julia/stdlib/v1.5/Serialization/src/Serialization.jl:833\ndeserialize at /buildworker/worker/package_linux64/build/usr/share/julia/stdlib/v1.5/Serialization/src/Serialization.jl:773 [inlined]\ndeserialize_msg at /buildworker/worker/package_linux64/build/usr/share/julia/stdlib/v1.5/Distributed/src/messages.jl:99\n#invokelatest#1 at ./essentials.jl:710 [inlined]\ninvokelatest at ./essentials.jl:709 [inlined]\nmessage_handler_loop at /buildworker/worker/package_linux64/build/usr/share/julia/stdlib/v1.5/Distributed/src/process_messages.jl:185\nprocess_tcp_streams at /buildworker/worker/package_linux64/build/usr/share/julia/stdlib/v1.5/Distributed/src/process_messages.jl:142\n#99 at ./task.jl:356",
     "output_type": "error",
     "traceback": [
      "On worker 2:\nUndefVarError: #interpolate_spectrum not defined\ndeserialize_datatype at /buildworker/worker/package_linux64/build/usr/share/julia/stdlib/v1.5/Serialization/src/Serialization.jl:1252\nhandle_deserialize at /buildworker/worker/package_linux64/build/usr/share/julia/stdlib/v1.5/Serialization/src/Serialization.jl:826\ndeserialize at /buildworker/worker/package_linux64/build/usr/share/julia/stdlib/v1.5/Serialization/src/Serialization.jl:773\nhandle_deserialize at /buildworker/worker/package_linux64/build/usr/share/julia/stdlib/v1.5/Serialization/src/Serialization.jl:833\ndeserialize at /buildworker/worker/package_linux64/build/usr/share/julia/stdlib/v1.5/Serialization/src/Serialization.jl:773 [inlined]\ndeserialize_global_from_main at /buildworker/worker/package_linux64/build/usr/share/julia/stdlib/v1.5/Distributed/src/clusterserialize.jl:180\n#3 at /buildworker/worker/package_linux64/build/usr/share/julia/stdlib/v1.5/Distributed/src/clusterserialize.jl:72 [inlined]\nforeach at ./abstractarray.jl:2009\ndeserialize at /buildworker/worker/package_linux64/build/usr/share/julia/stdlib/v1.5/Distributed/src/clusterserialize.jl:72\nhandle_deserialize at /buildworker/worker/package_linux64/build/usr/share/julia/stdlib/v1.5/Serialization/src/Serialization.jl:919\ndeserialize at /buildworker/worker/package_linux64/build/usr/share/julia/stdlib/v1.5/Serialization/src/Serialization.jl:773\nhandle_deserialize at /buildworker/worker/package_linux64/build/usr/share/julia/stdlib/v1.5/Serialization/src/Serialization.jl:830\ndeserialize at /buildworker/worker/package_linux64/build/usr/share/julia/stdlib/v1.5/Serialization/src/Serialization.jl:773\nhandle_deserialize at /buildworker/worker/package_linux64/build/usr/share/julia/stdlib/v1.5/Serialization/src/Serialization.jl:833\ndeserialize at /buildworker/worker/package_linux64/build/usr/share/julia/stdlib/v1.5/Serialization/src/Serialization.jl:773 [inlined]\ndeserialize_msg at /buildworker/worker/package_linux64/build/usr/share/julia/stdlib/v1.5/Distributed/src/messages.jl:99\n#invokelatest#1 at ./essentials.jl:710 [inlined]\ninvokelatest at ./essentials.jl:709 [inlined]\nmessage_handler_loop at /buildworker/worker/package_linux64/build/usr/share/julia/stdlib/v1.5/Distributed/src/process_messages.jl:185\nprocess_tcp_streams at /buildworker/worker/package_linux64/build/usr/share/julia/stdlib/v1.5/Distributed/src/process_messages.jl:142\n#99 at ./task.jl:356",
      "",
      "Stacktrace:",
      " [1] (::Base.var\"#770#772\")(::Task) at ./asyncmap.jl:178",
      " [2] foreach(::Base.var\"#770#772\", ::Array{Any,1}) at ./abstractarray.jl:2009",
      " [3] maptwice(::Function, ::Channel{Any}, ::Array{Any,1}, ::UnitRange{Int64}) at ./asyncmap.jl:178",
      " [4] wrap_n_exec_twice(::Channel{Any}, ::Array{Any,1}, ::Distributed.var\"#206#209\"{WorkerPool}, ::Function, ::UnitRange{Int64}) at ./asyncmap.jl:154",
      " [5] async_usemap(::Distributed.var\"#190#192\"{Distributed.var\"#190#191#193\"{WorkerPool,var\"#5#6\"}}, ::UnitRange{Int64}; ntasks::Function, batch_size::Nothing) at ./asyncmap.jl:103",
      " [6] #asyncmap#754 at ./asyncmap.jl:81 [inlined]",
      " [7] pmap(::Function, ::WorkerPool, ::UnitRange{Int64}; distributed::Bool, batch_size::Int64, on_error::Nothing, retry_delays::Array{Any,1}, retry_check::Nothing) at /buildworker/worker/package_linux64/build/usr/share/julia/stdlib/v1.5/Distributed/src/pmap.jl:126",
      " [8] pmap(::Function, ::WorkerPool, ::UnitRange{Int64}) at /buildworker/worker/package_linux64/build/usr/share/julia/stdlib/v1.5/Distributed/src/pmap.jl:101",
      " [9] pmap(::Function, ::UnitRange{Int64}; kwargs::Base.Iterators.Pairs{Union{},Union{},Tuple{},NamedTuple{(),Tuple{}}}) at /buildworker/worker/package_linux64/build/usr/share/julia/stdlib/v1.5/Distributed/src/pmap.jl:156",
      " [10] pmap(::Function, ::UnitRange{Int64}) at /buildworker/worker/package_linux64/build/usr/share/julia/stdlib/v1.5/Distributed/src/pmap.jl:156",
      " [11] top-level scope at In[14]:2",
      " [12] include_string(::Function, ::Module, ::String, ::String) at ./loading.jl:1091"
     ]
    }
   ],
   "source": [
    "x = rand(7) .* (ulimits-steps-llimits) + llimits\n",
    "specs = pmap(1:4) do i\n",
    "    x += randn(7) .* steps ./ 100\n",
    "    interpolate_spectrum(x)\n",
    "end\n",
    "for spec in specs\n",
    "    plot(spec)\n",
    "end"
   ]
  },
  {
   "cell_type": "code",
   "execution_count": 9,
   "metadata": {},
   "outputs": [
    {
     "data": {
      "image/png": "[encoded data removed]",
      "text/plain": [
       "Figure(PyObject <Figure size 640x480 with 1 Axes>)"
      ]
     },
     "metadata": {},
     "output_type": "display_data"
    },
    {
     "name": "stdout",
     "output_type": "stream",
     "text": [
      "  0.544261 seconds (62.05 k allocations: 1.008 MiB)\n"
     ]
    },
    {
     "data": {
      "text/plain": [
       "1-element Array{PyCall.PyObject,1}:\n",
       " PyObject <matplotlib.lines.Line2D object at 0x2aaad6e1d908>"
      ]
     },
     "execution_count": 9,
     "metadata": {},
     "output_type": "execute_result"
    }
   ],
   "source": [
    "x = rand(7) .* (ulimits-steps-llimits) + llimits\n",
    "plot(@time interpolate_spectrum(x))"
   ]
  },
  {
   "cell_type": "markdown",
   "metadata": {},
   "source": [
    "### test inference "
   ]
  },
  {
   "cell_type": "code",
   "execution_count": null,
   "metadata": {},
   "outputs": [],
   "source": [
    "function test_inference()\n",
    "    ul = ulimits - steps\n",
    "    ll = llimits\n",
    "\n",
    "    x = rand(7) .* (ul-ll) + ll\n",
    "    println.(zip(param_names, x))\n",
    "    f = interpolate_spectrum(x)\n",
    "    err = ones(size(f)) * 0.01\n",
    "    f .+= randn(size(f)) .* err\n",
    "\n",
    "    χ2(params) = sum(((interpolate_spectrum(params) .- f) ./ err).^2)\n",
    "    χ2grad(params) = sum( 2 * (interpolate_spectrum(params) .- f) .* interpolate_jacobi(params) ./ err.^2, dims=1)[:]\n",
    "    χ2grad!(G, params) = G .= χ2grad(params) #Optim.jl wants a mutating gradient function\n",
    "\n",
    "    x₀ = (ulimits+llimits)./2\n",
    "\n",
    "    H = zeros(7, 7)\n",
    "    @time χ2hessian!(H, x₀)\n",
    "    @time res = optimize(χ2, χ2grad!, ll, ul, x₀, Fminbox(LBFGS()), Optim.Options(f_tol=1.))\n",
    "    println(res.minimizer)\n",
    "\n",
    "    res\n",
    "end\n",
    "test_inference()"
   ]
  },
  {
   "cell_type": "markdown",
   "metadata": {},
   "source": [
    "# Notes\n",
    "\n",
    "### Using the mutating version (`interpolate!`) is faster, even when you count the time to copy the subgrid.\n",
    "```\n",
    "using Interpolations\n",
    "@time itp = scale(interpolate(grid[100, :, :, :, :, :, 1, 1], BSpline(Cubic(Reflect(OnGrid())))), ranges[1:5]...);\n",
    "@time itp = scale(interpolate(grid[100, :, :, :, :, :, :, :], BSpline(Cubic(Reflect(OnGrid())))), ranges...);\n",
    "@time begin\n",
    "    subgrid = copy(grid[100, :, :, :, :, :, :, :])\n",
    "    itp = scale(interpolate!(subgrid, BSpline(Cubic(Reflect(OnGrid())))), trim.(ranges)...)\n",
    "end\n",
    "\n",
    "  0.007908 seconds (15 allocations: 1.870 MiB, 61.03% gc time)\n",
    "  0.134731 seconds (16 allocations: 90.267 MiB, 2.20% gc time)\n",
    "  0.096192 seconds (17 allocations: 33.236 MiB)\n",
    "```\n",
    "\n",
    "Unfortunately, this results in the truncation of the interpolation domain one \"step\" inward of the original boundary.\n",
    "\n",
    "### Header structure / parameter information\n",
    "```\n",
    "Pair{Any,Any}(\"LABEL\", [\"LOG10VDOP\", \"C\", \"N\", \"O Mg Si S Ca Ti\", \"METALS\", \"LOGG\", \"TEFF\"])\n",
    "Pair{Any,Any}(\"ULIMITS\", [0.98227, 1.25, 2.5, 1.25, 1.25, 5.0, 6250.0])\n",
    "Pair{Any,Any}(\"NPIX\", 900)\n",
    "Pair{Any,Any}(\"STEPS\", [0.30103, 0.25, 0.5, 0.25, 0.25, 0.5, 250.0])\n",
    "Pair{Any,Any}(\"LLIMITS\", [-0.52288, -1.5, -0.5, -0.75, -2.5, 0.0, 3500.0])\n",
    "```"
   ]
  },
  {
   "cell_type": "code",
   "execution_count": null,
   "metadata": {},
   "outputs": [],
   "source": []
  }
 ],
 "metadata": {
  "kernelspec": {
   "display_name": "Julia 1.5.0",
   "language": "julia",
   "name": "julia-1.5"
  },
  "language_info": {
   "file_extension": ".jl",
   "mimetype": "application/julia",
   "name": "julia",
   "version": "1.5.0"
  }
 },
 "nbformat": 4,
 "nbformat_minor": 2
}
